{
  "nbformat": 4,
  "nbformat_minor": 0,
  "metadata": {
    "colab": {
      "provenance": []
    },
    "kernelspec": {
      "name": "python3",
      "display_name": "Python 3"
    },
    "language_info": {
      "name": "python"
    }
  },
  "cells": [
    {
      "cell_type": "code",
      "source": [],
      "metadata": {
        "id": "z5ZpxGbVcYow"
      },
      "execution_count": null,
      "outputs": []
    },
    {
      "cell_type": "code",
      "source": [
        "import nltk\n",
        "nltk.download('punkt')\n",
        "nltk.download('stopwords')\n"
      ],
      "metadata": {
        "colab": {
          "base_uri": "https://localhost:8080/"
        },
        "id": "Y27iPXZoW3De",
        "outputId": "8509dae4-2af8-410e-ccf9-c7c102fbf174"
      },
      "execution_count": 1,
      "outputs": [
        {
          "output_type": "stream",
          "name": "stderr",
          "text": [
            "[nltk_data] Downloading package punkt to /root/nltk_data...\n",
            "[nltk_data]   Unzipping tokenizers/punkt.zip.\n",
            "[nltk_data] Downloading package stopwords to /root/nltk_data...\n",
            "[nltk_data]   Unzipping corpora/stopwords.zip.\n"
          ]
        },
        {
          "output_type": "execute_result",
          "data": {
            "text/plain": [
              "True"
            ]
          },
          "metadata": {},
          "execution_count": 1
        }
      ]
    },
    {
      "cell_type": "code",
      "execution_count": 5,
      "metadata": {
        "colab": {
          "base_uri": "https://localhost:8080/"
        },
        "id": "RKO9KIlSWP2s",
        "outputId": "d28871c2-0764-4324-9173-3d3cfa357ef8"
      },
      "outputs": [
        {
          "output_type": "stream",
          "name": "stdout",
          "text": [
            "Enter query : Is this the first document?\n",
            "Query: Is this the first document?\n",
            "Document: {1} Is this the first document?\n",
            "Similarity Score: 1.0\n",
            "----------------------\n",
            "Document: {2} This is the first document.\n",
            "Similarity Score: 1.0\n",
            "----------------------\n",
            "Document: {3} This document is the second document.\n",
            "Similarity Score: 0.4953423567447137\n",
            "----------------------\n",
            "Document: {4} And this is the third one.\n",
            "Similarity Score: 0.0\n",
            "----------------------\n",
            "The high rank cosine score is 1.0\n"
          ]
        }
      ],
      "source": [
        "from sklearn.feature_extraction.text import TfidfVectorizer\n",
        "from sklearn.metrics.pairwise import cosine_similarity\n",
        "from nltk.tokenize import word_tokenize\n",
        "from nltk.corpus import stopwords\n",
        "import string\n",
        "\n",
        "# Sample documents\n",
        "documents = [\n",
        "    \"This is the first document.\",\n",
        "    \"This document is the second document.\",\n",
        "    \"And this is the third one.\",\n",
        "    \"Is this the first document?\",\n",
        "]\n",
        "\n",
        "# Preprocessing function to tokenize and remove stopwords/punctuation\n",
        "def preprocess_text(text):\n",
        "    tokens = word_tokenize(text.lower())\n",
        "    tokens = [token for token in tokens if token not in stopwords.words(\"english\") and token not in string.punctuation]\n",
        "    return \" \".join(tokens)\n",
        "    print(tokens)\n",
        "\n",
        "# Preprocess documents\n",
        "preprocessed_docs = [preprocess_text(doc) for doc in documents]\n",
        "\n",
        "# Construct TF-IDF matrix\n",
        "tfidf_vectorizer = TfidfVectorizer()\n",
        "tfidf_matrix = tfidf_vectorizer.fit_transform(preprocessed_docs)\n",
        "\n",
        "\n",
        "# Calculate cosine similarity between query and documents\n",
        "def search(query, tfidf_matrix, tfidf_vectorizer):\n",
        "    preprocessed_query = preprocess_text(query)\n",
        "    query_vector = tfidf_vectorizer.transform([preprocessed_query])\n",
        "\n",
        "    # Calculate cosine similarity between query and documents\n",
        "    similarity_scores = cosine_similarity(query_vector, tfidf_matrix)\n",
        "\n",
        "    # Sort documents based on similarity scores\n",
        "    sorted_indexes = similarity_scores.argsort()[0][::-1]\n",
        "\n",
        "    # Return sorted documents along with their similarity scores\n",
        "    results = [(documents[i], similarity_scores[0, i]) for i in sorted_indexes]\n",
        "    return results\n",
        "\n",
        "# Example query\n",
        "query = input(\"Enter query : \")\n",
        "\n",
        "# Perform search\n",
        "search_results = search(query, tfidf_matrix, tfidf_vectorizer)\n",
        "\n",
        "# Display search results\n",
        "i=1\n",
        "print(\"Query:\", query)\n",
        "for result in search_results:\n",
        "    print(\"Document:\",{i}, result[0])\n",
        "    print(\"Similarity Score:\", result[1])\n",
        "    print(\"----------------------\")\n",
        "    i=i+1\n",
        "    x=result[1]\n",
        "for result in search_results:\n",
        "    if(result[1]>=x):\n",
        "      x=result[1]\n",
        "print(\"The high rank cosine score is\",x)\n"
      ]
    }
  ]
}